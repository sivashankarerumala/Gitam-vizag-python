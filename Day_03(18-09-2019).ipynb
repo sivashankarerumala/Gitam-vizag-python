{
 "cells": [
  {
   "cell_type": "markdown",
   "metadata": {},
   "source": [
    "## string\n",
    "- strings\n",
    "- string slicing\n",
    "- fundamental programming and examples with string"
   ]
  },
  {
   "cell_type": "code",
   "execution_count": 2,
   "metadata": {},
   "outputs": [
    {
     "name": "stdout",
     "output_type": "stream",
     "text": [
      "python\n",
      "programming\n",
      "A\n",
      "<class 'str'> <class 'str'> <class 'str'>\n"
     ]
    }
   ],
   "source": [
    "s1='python'\n",
    "s2=\"programming\"\n",
    "s3='A'\n",
    "print(s1)\n",
    "print(s2)\n",
    "print(s3)\n",
    "print(type(s1),type(s2),type(s3))"
   ]
  },
  {
   "cell_type": "markdown",
   "metadata": {},
   "source": [
    "### String Slicing"
   ]
  },
  {
   "cell_type": "code",
   "execution_count": 7,
   "metadata": {
    "collapsed": true
   },
   "outputs": [
    {
     "name": "stdout",
     "output_type": "stream",
     "text": [
      "p\n",
      "y\n",
      "6\n",
      "n\n",
      "n\n",
      "o\n"
     ]
    }
   ],
   "source": [
    "s1 = \"python\"\n",
    "print(s1[0])   #accessing the first character in a string\n",
    "print(s1[1]) # accessing the second character in a string\n",
    "print(len(s1))# length of a string\n",
    "print(s1[len(s1)-1])   #access the last character of the string\n",
    "print(s1[-1])# another way to access the last character\n",
    "print(s1[-2])\n"
   ]
  },
  {
   "cell_type": "code",
   "execution_count": 13,
   "metadata": {},
   "outputs": [
    {
     "name": "stdout",
     "output_type": "stream",
     "text": [
      "py\n",
      "on\n",
      "hon\n",
      "tho\n",
      "ytho\n"
     ]
    }
   ],
   "source": [
    "print(s1[0:2])  #Access the first two characters\n",
    "print(s1[-2:]) # access the last two characters\n",
    "print(s1[3:]) # from 3 till last\n",
    "print(s1[2:5]) # from 2 to 5 \n",
    "print(s1[1:-1]) # except first and last character"
   ]
  },
  {
   "cell_type": "markdown",
   "metadata": {},
   "source": [
    "| this|  is |\n",
    "|-----|-----|\n",
    "| a   |table|"
   ]
  },
  {
   "cell_type": "markdown",
   "metadata": {},
   "source": [
    "|  roll numbers  |        name          |\n",
    "|----------------|----------------------|\n",
    "|   121921601005 |     siva shankar     | "
   ]
  },
  {
   "cell_type": "code",
   "execution_count": 15,
   "metadata": {},
   "outputs": [
    {
     "data": {
      "text/plain": [
       "'nohtyp'"
      ]
     },
     "execution_count": 15,
     "metadata": {},
     "output_type": "execute_result"
    }
   ],
   "source": [
    " s1[-1::-1] # reverse the string"
   ]
  },
  {
   "cell_type": "code",
   "execution_count": 20,
   "metadata": {},
   "outputs": [
    {
     "data": {
      "text/plain": [
       "'pto'"
      ]
     },
     "execution_count": 20,
     "metadata": {},
     "output_type": "execute_result"
    }
   ],
   "source": [
    "s1[::2] # access the character inthe string :: python --- pto"
   ]
  },
  {
   "cell_type": "code",
   "execution_count": 21,
   "metadata": {},
   "outputs": [
    {
     "data": {
      "text/plain": [
       "'nhy'"
      ]
     },
     "execution_count": 21,
     "metadata": {},
     "output_type": "execute_result"
    }
   ],
   "source": [
    "# access the alternate characcters from the reverse direction::python --- nhy\n",
    "s1[::-2]"
   ]
  },
  {
   "cell_type": "code",
   "execution_count": 19,
   "metadata": {},
   "outputs": [
    {
     "data": {
      "text/plain": [
       "'ph'"
      ]
     },
     "execution_count": 19,
     "metadata": {},
     "output_type": "execute_result"
    }
   ],
   "source": [
    "s1[::3]"
   ]
  },
  {
   "cell_type": "markdown",
   "metadata": {},
   "source": [
    "### Function with string  operations"
   ]
  },
  {
   "cell_type": "code",
   "execution_count": 23,
   "metadata": {},
   "outputs": [
    {
     "data": {
      "text/plain": [
       "'nohtyp'"
      ]
     },
     "execution_count": 23,
     "metadata": {},
     "output_type": "execute_result"
    }
   ],
   "source": [
    "# reverse the string\n",
    "def reversestr(s):\n",
    "    return s[-1::-1]\n",
    "reversestr('python')"
   ]
  },
  {
   "cell_type": "code",
   "execution_count": 25,
   "metadata": {},
   "outputs": [
    {
     "name": "stdout",
     "output_type": "stream",
     "text": [
      "False\n",
      "True\n"
     ]
    }
   ],
   "source": [
    "# TO check the given string is palindrome or not a palindorme\n",
    "def ispalindrome(s):\n",
    "    if s==s[-1::-1]:\n",
    "        return True \n",
    "    return False\n",
    "print(ispalindrome('python'))\n",
    "print(ispalindrome('ganag'))"
   ]
  },
  {
   "cell_type": "code",
   "execution_count": 30,
   "metadata": {},
   "outputs": [
    {
     "name": "stdout",
     "output_type": "stream",
     "text": [
      "P T "
     ]
    }
   ],
   "source": [
    "# function to print the upper case character\n",
    "# example : PyhThon --- P T\n",
    "'''\n",
    "    ASCII\n",
    "    A - Z : 65 - 90\n",
    "    a - z : 97 - 122\n",
    "    0 - 9 : 48 - 57\n",
    "    space : 32\n",
    "'''\n",
    "def printUpper(s):\n",
    "    for i in range(len(s)):\n",
    "        if ord(s[i])>= 65 and ord(s[i])<= 90:\n",
    "            print(s[i],end=' ')\n",
    "    return\n",
    "printUpper('PyThon') # P T\n"
   ]
  },
  {
   "cell_type": "markdown",
   "metadata": {},
   "source": [
    "### to  get the ASCII value\n",
    "    - ord('a')"
   ]
  },
  {
   "cell_type": "code",
   "execution_count": 32,
   "metadata": {},
   "outputs": [
    {
     "data": {
      "text/plain": [
       "97"
      ]
     },
     "execution_count": 32,
     "metadata": {},
     "output_type": "execute_result"
    }
   ],
   "source": [
    "ord('a')"
   ]
  },
  {
   "cell_type": "code",
   "execution_count": 33,
   "metadata": {},
   "outputs": [
    {
     "name": "stdout",
     "output_type": "stream",
     "text": [
      "same count\n",
      "not same count\n"
     ]
    }
   ],
   "source": [
    "'''\n",
    "    funtion to return the output as \"SameCount\" or \"Programming\"\n",
    "    SameCount --- Lower and Upper chars have same count\n",
    "    Programming --- Count of lower and upper case is not same\n",
    "    \n",
    "    # example ;;; PyThOn --- 3 P T O\n",
    "                             3 y h n \n",
    "                  PyThon ---  2 P T\n",
    "                              4 y h o n \n",
    "'''\n",
    "def count(s):\n",
    "    a=0\n",
    "    b=0\n",
    "    for i in range(len(s)):\n",
    "        if ord(s[i])>=65  and ord(s[i])<=90:\n",
    "            a=a+1\n",
    "        elif ord(s[i])>=97 and ord(s[i])<=122:\n",
    "            b=b+1\n",
    "    if a==b:\n",
    "        print(\"same count\")\n",
    "    elif a!=b:\n",
    "        print(\"not same count\")\n",
    "    return\n",
    "count('PyThOn')\n",
    "count('PyThon')\n",
    "\n",
    "   "
   ]
  },
  {
   "cell_type": "code",
   "execution_count": 43,
   "metadata": {},
   "outputs": [
    {
     "name": "stdout",
     "output_type": "stream",
     "text": [
      "1 8 8 9 "
     ]
    }
   ],
   "source": [
    "'''\n",
    "    function to extract the digits from the string\n",
    "    example :\n",
    "            input: appli18cation89\n",
    "            output: 1 8 8 9\n",
    "'''\n",
    "def extractdigits(s):\n",
    "    for i in range(len(s)):\n",
    "        if ord(s[i])>=48 and ord(s[i])<=57:\n",
    "            print(s[i], end=' ')\n",
    "    return\n",
    "extractdigits('appli18cation89')"
   ]
  },
  {
   "cell_type": "code",
   "execution_count": 54,
   "metadata": {},
   "outputs": [
    {
     "name": "stdout",
     "output_type": "stream",
     "text": [
      "1 8 8 9 \n",
      "26\n"
     ]
    }
   ],
   "source": [
    "'''\n",
    "    function to add the digits of th string\n",
    "    example:  \n",
    "        input: appli18cation89\n",
    "        output: 26(1+8+8+9)\n",
    "'''\n",
    "\n",
    "\n",
    "def adddigits(s):\n",
    "    a=0\n",
    "    for i in range(len(s)):\n",
    "        if ord(s[i])>=48 and ord(s[i])<=57:\n",
    "            print(s[i],end=' ')\n",
    "            a = a + int(s[i]) \n",
    "    print()\n",
    "    print(a)\n",
    "    return\n",
    "adddigits('appli18cation89')"
   ]
  },
  {
   "cell_type": "markdown",
   "metadata": {},
   "source": [
    "## converting upper case to lower case in strings "
   ]
  },
  {
   "cell_type": "code",
   "execution_count": 90,
   "metadata": {},
   "outputs": [
    {
     "name": "stdout",
     "output_type": "stream",
     "text": [
      "P Y T H O N \n",
      "M A D E "
     ]
    }
   ],
   "source": [
    "'''\n",
    "    Function to  2nd word in uppercase\n",
    "    example:  \n",
    "        input: Python Made Easy\n",
    "        output: MADE\n",
    "        \n",
    "        input: Learn pyhton strings\n",
    "        output: PYTHON\n",
    "\n",
    "'''\n",
    "\n",
    "def capword(s):\n",
    "    a=0\n",
    "    for i in range(len(s)):\n",
    "        if ord(s[i])==32:\n",
    "            a=a+1\n",
    "        if a==1:\n",
    "            if ord(s[i])>=65 and ord(s[i])<=90:\n",
    "                print(s[i],end=' ')\n",
    "            elif ord(s[i])>=97 and ord(s[i])<=122:\n",
    "                #print(chr(ord(s[i])-32),end=' ')\n",
    "                print(s[i].upper(),end=' ')\n",
    "        if a==2:\n",
    "            break\n",
    "    return\n",
    "capword('Learn python Strings')\n",
    "print()\n",
    "capword('Python made easy')\n"
   ]
  },
  {
   "cell_type": "code",
   "execution_count": 87,
   "metadata": {},
   "outputs": [
    {
     "name": "stdout",
     "output_type": "stream",
     "text": [
      "PYTHON\n"
     ]
    }
   ],
   "source": [
    "s='python'\n",
    "print(s.upper())"
   ]
  },
  {
   "cell_type": "markdown",
   "metadata": {},
   "source": [
    "### List\n",
    "- one of the data structure in pyhton\n",
    "- data structure means to store , sort and search options\n",
    "- its one commondata data structure in python , the items of list seperated by comma and enclosed in square brackerts[]\n",
    "    - example :\n",
    "        - list1 = [1,2,3,4,5]\n",
    "        - list2 = [\"Gitam\",1,2,1.89,\"vizag\"]"
   ]
  },
  {
   "cell_type": "code",
   "execution_count": 72,
   "metadata": {},
   "outputs": [
    {
     "name": "stdout",
     "output_type": "stream",
     "text": [
      "[1, 8, 16, 9, 2]\n",
      "1\n",
      "8\n",
      "2\n",
      "9\n",
      "[16, 9, 2]\n",
      "[1, 8, 16]\n"
     ]
    }
   ],
   "source": [
    "li = [1,8,16,9,2]\n",
    "print(li) # Will print all the list items\n",
    "print(li[0]) #  access the first item of the list\n",
    "print(li[1])\n",
    "# print(li[2])\n",
    "# print(li[3])\n",
    "# print(li[4])\n",
    "print(li[-1])\n",
    "print(li[-2])\n",
    "# print(li[-3])\n",
    "print(li[2:])\n",
    "print(li[:3])"
   ]
  },
  {
   "cell_type": "code",
   "execution_count": 74,
   "metadata": {},
   "outputs": [
    {
     "name": "stdout",
     "output_type": "stream",
     "text": [
      "['gitam', 123, 456, 789, 'vizag']\n",
      "['gitam', 321, 456, 789, 'vizag']\n",
      "['gitam', 321, 456, 'vizag']\n"
     ]
    }
   ],
   "source": [
    "li= [\"gitam\", 123,456,789,\"vizag\"]\n",
    "print(li)\n",
    "# update the list item with the value using index\n",
    "li[1]=321\n",
    "print(li)\n",
    "# Delete the list item from the list\n",
    "del li[3]\n",
    "print(li)"
   ]
  },
  {
   "cell_type": "code",
   "execution_count": 87,
   "metadata": {},
   "outputs": [
    {
     "name": "stdout",
     "output_type": "stream",
     "text": [
      "5\n",
      "[1, 2, 3, 4, 5, 1, 2, 3, 4, 5]\n",
      "True\n",
      "False\n",
      "1 2 3 4 5 \n",
      "1 2 3 4 5 "
     ]
    }
   ],
   "source": [
    "# Basic list operations\n",
    "li=[1,2,3,4,5]\n",
    "#len of the list\n",
    "print(len(li))\n",
    "#list repitition\n",
    "print(li*2)\n",
    "#to know certain item is present in the list are not\n",
    "print (4 in li)\n",
    "print(10 in li)\n",
    "# access the list items from the iteration\n",
    "# 1 way to define\n",
    "for i in li:\n",
    "    print(i , end=' ')\n",
    "print()\n",
    "# 2 way to define\n",
    "for i in range(len(li)):\n",
    "    print(li[i],end=' ')\n",
    "#"
   ]
  },
  {
   "cell_type": "code",
   "execution_count": 76,
   "metadata": {},
   "outputs": [
    {
     "name": "stdout",
     "output_type": "stream",
     "text": [
      "36\n",
      "1\n",
      "87\n",
      "17.4\n"
     ]
    }
   ],
   "source": [
    "# basic list functions\n",
    "li=[1,9,16,25,36]\n",
    "print(max(li)) # max\n",
    "print(min(li)) # min\n",
    "print(sum(li)) # sum\n",
    "print(sum(li)/len(li)) # avg"
   ]
  },
  {
   "cell_type": "code",
   "execution_count": 1,
   "metadata": {},
   "outputs": [
    {
     "data": {
      "text/html": [
       "<font size =3 color = 'red'>python</font>\n"
      ],
      "text/plain": [
       "<IPython.core.display.HTML object>"
      ]
     },
     "metadata": {},
     "output_type": "display_data"
    }
   ],
   "source": [
    "%%html\n",
    "<font size =3 color = 'red'>python</font>"
   ]
  },
  {
   "cell_type": "code",
   "execution_count": 44,
   "metadata": {},
   "outputs": [
    {
     "data": {
      "application/javascript": [
       "function add(x,y)\n",
       "{\n",
       "    var z= x+y;\n",
       "    alert (\"x+y=\"+z.tostring());\n",
       "}\n",
       "add(1,2)\n"
      ],
      "text/plain": [
       "<IPython.core.display.Javascript object>"
      ]
     },
     "metadata": {},
     "output_type": "display_data"
    }
   ],
   "source": [
    "%%js\n",
    "function add(x,y)\n",
    "{\n",
    "    var z= x+y;\n",
    "    alert (\"x+y=\"+z.tostring());\n",
    "}\n",
    "add(1,2)"
   ]
  },
  {
   "cell_type": "code",
   "execution_count": 39,
   "metadata": {},
   "outputs": [
    {
     "name": "stdout",
     "output_type": "stream",
     "text": [
      "Writing hellojupyter.py\n"
     ]
    }
   ],
   "source": [
    "%%writefile hellojupyter.py\n",
    "x=1\n",
    "y=2\n",
    "z=x+y\n",
    "print(\"x+y= \",z)"
   ]
  },
  {
   "cell_type": "code",
   "execution_count": 17,
   "metadata": {},
   "outputs": [
    {
     "name": "stdout",
     "output_type": "stream",
     "text": [
      "2\n",
      "2\n",
      "[1, 9, 56, 16, 25, 5, 29, 9]\n"
     ]
    }
   ],
   "source": [
    "# methods  of list\n",
    "li=[1,9,16,25,5]\n",
    "li.append(29) # add th new item at the end of list\n",
    "li.insert(2,56)# add the new item at the end of list\n",
    "li.append(9)\n",
    "print(li.count(9)) # returns the value how many object repeated\n",
    "print(li.index(56))# returns the value at that index\n",
    "print(li)"
   ]
  },
  {
   "cell_type": "code",
   "execution_count": 24,
   "metadata": {},
   "outputs": [
    {
     "data": {
      "text/plain": [
       "[1, 6, 9]"
      ]
     },
     "execution_count": 24,
     "metadata": {},
     "output_type": "execute_result"
    }
   ],
   "source": [
    "# Method of  list \n",
    "li=[1,5,6,9,25]\n",
    "li.sort() # sort the list in asending order\n",
    "li.pop()# removes the last index value\n",
    "li.pop(1) # remove the items from the  specified index\n",
    "li"
   ]
  },
  {
   "cell_type": "code",
   "execution_count": 32,
   "metadata": {},
   "outputs": [
    {
     "name": "stdout",
     "output_type": "stream",
     "text": [
      "[9, 4, 6, 1]\n",
      "[9, 4, 6, 1, 98, 67, 85]\n",
      "[1, 4, 6, 9, 67, 85, 98]\n"
     ]
    }
   ],
   "source": [
    "li=[1,6,4,9]\n",
    "li.reverse() # reverse the list \n",
    "print(li)\n",
    "li1=[98,67,85]\n",
    "li.extend(li1) # adding of two lists \n",
    "print(li)\n",
    "li.sort()\n",
    "print(li)"
   ]
  },
  {
   "cell_type": "code",
   "execution_count": 25,
   "metadata": {},
   "outputs": [
    {
     "name": "stdout",
     "output_type": "stream",
     "text": [
      "45\n",
      "22\n"
     ]
    }
   ],
   "source": [
    "# function to return the large numbr from the list\n",
    "def largenumber(li):\n",
    "    li.sort()\n",
    "    return li[-1]\n",
    "def genericlarge(li,n):\n",
    "    li.sort()\n",
    "    return li[-n]\n",
    "li=[19,1,25,6,9,45,22]\n",
    "print(largenumber(li))\n",
    "print(genericlarge(li,3))# 3 rd largest number"
   ]
  },
  {
   "cell_type": "code",
   "execution_count": 27,
   "metadata": {},
   "outputs": [
    {
     "name": "stdout",
     "output_type": "stream",
     "text": [
      "1\n",
      "19\n"
     ]
    }
   ],
   "source": [
    "# function to find least and generic least number from the list\n",
    "def leastnum(li):\n",
    "    li.sort()\n",
    "    return li[0]\n",
    "def genericleastnum(li,n):\n",
    "    li.sort()\n",
    "    return li[n-1]\n",
    "li=[19,1,25,6,9,45,22]\n",
    "print(leastnum(li))\n",
    "print(genericleastnum(li,4))\n"
   ]
  },
  {
   "cell_type": "markdown",
   "metadata": {},
   "source": [
    "### to get into the datascience lets get started with the file handiling in th python"
   ]
  },
  {
   "cell_type": "markdown",
   "metadata": {},
   "source": [
    "## File Handling in Python\n",
    "- file-Document which contains some information and resides on parmanent devices\n",
    "- different types of fiel--- .txt.,,.pdf,,,.doc.,,,.ppt,,,etc\n",
    "- input  - keboard\n",
    "- output-- File system"
   ]
  },
  {
   "cell_type": "code",
   "execution_count": 50,
   "metadata": {},
   "outputs": [
    {
     "name": "stdout",
     "output_type": "stream",
     "text": [
      "file is successfully  created and data has been inserted\n"
     ]
    }
   ],
   "source": [
    "# function to create file and write some data to the file \n",
    "def createfile(filename):\n",
    "    f=open(filename,'w') # write mode it creates the file and writes some data in the file --prob if the file  is alreadyn prsent then the prvious data is deleted and the updated data is present \n",
    "    for i in range (10):\n",
    "        f.write('this is %d line\\n'%i)\n",
    "    print('file is successfully  created and data has been inserted')\n",
    "    return\n",
    "createfile('data.txt')"
   ]
  },
  {
   "cell_type": "code",
   "execution_count": 34,
   "metadata": {},
   "outputs": [
    {
     "name": "stdout",
     "output_type": "stream",
     "text": [
      "Writing hello.txt\n"
     ]
    }
   ],
   "source": [
    "%%writefile hello.txt\n",
    "hi\n"
   ]
  },
  {
   "cell_type": "code",
   "execution_count": 37,
   "metadata": {},
   "outputs": [
    {
     "data": {
      "text/plain": [
       "'C:\\\\Users\\\\DELL\\\\Desktop\\\\problem solving and programming'"
      ]
     },
     "execution_count": 37,
     "metadata": {},
     "output_type": "execute_result"
    }
   ],
   "source": [
    "pwd # location "
   ]
  },
  {
   "cell_type": "markdown",
   "metadata": {},
   "source": [
    "### rewriting the data "
   ]
  },
  {
   "cell_type": "code",
   "execution_count": 43,
   "metadata": {},
   "outputs": [
    {
     "name": "stdout",
     "output_type": "stream",
     "text": [
      "completed successfully\n"
     ]
    }
   ],
   "source": [
    "def createfile(filename):\n",
    "    f= open(filename,'w')\n",
    "    f.write('gitam vizag')\n",
    "    print('completed successfully')\n",
    "    return\n",
    "createfile('data.txt')"
   ]
  },
  {
   "cell_type": "markdown",
   "metadata": {},
   "source": [
    " ### append the data"
   ]
  },
  {
   "cell_type": "code",
   "execution_count": 51,
   "metadata": {},
   "outputs": [
    {
     "name": "stdout",
     "output_type": "stream",
     "text": [
      "completed successfully\n"
     ]
    }
   ],
   "source": [
    "# mode ----a(if the file is not availabe it creates the file)\n",
    "#       --- if the file is already present with same name\n",
    "#       --- append the data at the end of the previous line\n",
    "\n",
    "def appendmode(filename):\n",
    "    f= open(filename,'a')\n",
    "    f.write('\\nmtech ')\n",
    "    print('completed successfully')\n",
    "    return\n",
    "appendmode('data.txt')"
   ]
  },
  {
   "cell_type": "markdown",
   "metadata": {},
   "source": [
    "### read the file"
   ]
  },
  {
   "cell_type": "code",
   "execution_count": 52,
   "metadata": {},
   "outputs": [
    {
     "name": "stdout",
     "output_type": "stream",
     "text": [
      "this is 0 line\n",
      "this is 1 line\n",
      "this is 2 line\n",
      "this is 3 line\n",
      "this is 4 line\n",
      "this is 5 line\n",
      "this is 6 line\n",
      "this is 7 line\n",
      "this is 8 line\n",
      "this is 9 line\n",
      "\n",
      "mtech \n"
     ]
    }
   ],
   "source": [
    "# function to read the file\n",
    "def readfiledata(filename):\n",
    "    f = open(filename,'r')\n",
    "    if f.mode=='r':\n",
    "        a= f.read()\n",
    "        print(a)\n",
    "    f.close()\n",
    "    return\n",
    "readfiledata('data.txt')"
   ]
  },
  {
   "cell_type": "markdown",
   "metadata": {},
   "source": [
    "#### basic data science analysis"
   ]
  },
  {
   "cell_type": "code",
   "execution_count": 46,
   "metadata": {},
   "outputs": [
    {
     "name": "stdout",
     "output_type": "stream",
     "text": [
      "['python', 'programming']\n"
     ]
    }
   ],
   "source": [
    "# Analysis on the file --- word count , char count , Digit count\n",
    "#idiabatic \n",
    "\n",
    "s1=\"python programming\"\n",
    "print(s1.split())"
   ]
  },
  {
   "cell_type": "code",
   "execution_count": 54,
   "metadata": {},
   "outputs": [
    {
     "data": {
      "text/plain": [
       "41"
      ]
     },
     "execution_count": 54,
     "metadata": {},
     "output_type": "execute_result"
    }
   ],
   "source": [
    "# word count -- input file\n",
    "def wordcount(filename):\n",
    "    with open (filename,'r') as f:\n",
    "        if f.mode == 'r':\n",
    "            a= f.read()\n",
    "            li = a.split()   # Divides the words by using white space         \n",
    "    return len(li)\n",
    "wordcount('data.txt')"
   ]
  },
  {
   "cell_type": "code",
   "execution_count": 62,
   "metadata": {},
   "outputs": [
    {
     "name": "stdout",
     "output_type": "stream",
     "text": [
      "10\n",
      "1\n"
     ]
    }
   ],
   "source": [
    "# specific word count from the file\n",
    "# example : \n",
    "#         input: this\n",
    "#         output: 10\n",
    "            \n",
    "#         input: mtech\n",
    "#         output: 1\n",
    "\n",
    "def specificwordcount(filename,s):\n",
    "    b=0\n",
    "    i=0\n",
    "    with open (filename,'r') as f:\n",
    "        if f.mode == 'r':\n",
    "            a= f.read()\n",
    "            li = a.split()\n",
    "        for i in range(len(li)):\n",
    "            if s==li[i]:\n",
    "                b=b+1\n",
    "                i=i+1\n",
    "            else:\n",
    "                i=i+1          \n",
    "    return b\n",
    "print(specificwordcount('data.txt','this'))\n",
    "print(specificwordcount('data.txt','mtech'))\n",
    "    "
   ]
  },
  {
   "cell_type": "code",
   "execution_count": 63,
   "metadata": {},
   "outputs": [
    {
     "data": {
      "text/plain": [
       "10"
      ]
     },
     "execution_count": 63,
     "metadata": {},
     "output_type": "execute_result"
    }
   ],
   "source": [
    "def specificwordcount(filename,s):\n",
    "    with open(filename,'r') as f:\n",
    "        if f.mode=='r':\n",
    "            a=f.read()\n",
    "            li=a.split()\n",
    "    return li.count(s)\n",
    "specificwordcount('data.txt','this')"
   ]
  },
  {
   "cell_type": "code",
   "execution_count": 66,
   "metadata": {},
   "outputs": [
    {
     "data": {
      "text/plain": [
       "157"
      ]
     },
     "execution_count": 66,
     "metadata": {},
     "output_type": "execute_result"
    }
   ],
   "source": [
    "# Function to find the character count from the input file\n",
    "def charcount(filename):\n",
    "    with open (filename,'r')as f:\n",
    "        if f.mode=='r':\n",
    "            a=f.read()\n",
    "            li=list(a)  # converts the input string into sequence of charcters and finding the length of the list gives the \n",
    "                        # character count of the input string\n",
    "    return len(li)\n",
    "charcount('data.txt')"
   ]
  },
  {
   "cell_type": "markdown",
   "metadata": {},
   "source": [
    "### list() - converts the input string into sequence of characters"
   ]
  },
  {
   "cell_type": "code",
   "execution_count": 67,
   "metadata": {},
   "outputs": [
    {
     "name": "stdout",
     "output_type": "stream",
     "text": [
      "['p', 'y', 't', 'h', 'o', 'n']\n"
     ]
    }
   ],
   "source": [
    "s=\"python\"\n",
    "li=list(s)\n",
    "print(li)"
   ]
  },
  {
   "cell_type": "markdown",
   "metadata": {},
   "source": [
    "#### to find number of lines or rows in the given input string"
   ]
  },
  {
   "cell_type": "code",
   "execution_count": 68,
   "metadata": {},
   "outputs": [
    {
     "data": {
      "text/plain": [
       "12"
      ]
     },
     "execution_count": 68,
     "metadata": {},
     "output_type": "execute_result"
    }
   ],
   "source": [
    "def findlinecount(filename):\n",
    "    with open(filename,'r') as f:\n",
    "        if f.mode=='r':\n",
    "            a=f.read()\n",
    "            li=a.split('\\n')\n",
    "    return len(li)\n",
    "findlinecount('data.txt')"
   ]
  },
  {
   "cell_type": "code",
   "execution_count": 71,
   "metadata": {},
   "outputs": [
    {
     "data": {
      "text/plain": [
       "'upper case:  0 lower case: 105 digit10'"
      ]
     },
     "execution_count": 71,
     "metadata": {},
     "output_type": "execute_result"
    }
   ],
   "source": [
    "def casecount(filename):\n",
    "    cntupper=0\n",
    "    cntlower=0\n",
    "    cntdigit=0\n",
    "    with open(filename,'r')as f:\n",
    "        if f.mode=='r':\n",
    "            a=f.read()\n",
    "            li=list(a)\n",
    "        for i in range (len(li)):\n",
    "            if ord(li[i])>=65 and ord(li[i])<=90:\n",
    "                cntupper+=1\n",
    "            elif ord(li[i])>=97 and ord(li[i])<=122:\n",
    "                cntlower+=1\n",
    "            elif ord(li[i])>=48 and ord(li[i])<=57:\n",
    "                cntdigit+=1\n",
    "        output='upper case:  {0} lower case: {1} digit{2}'.format(cntupper,cntlower,cntdigit)\n",
    "        return output\n",
    "casecount('data.txt')"
   ]
  },
  {
   "cell_type": "code",
   "execution_count": null,
   "metadata": {},
   "outputs": [],
   "source": [
    "\n",
    "    "
   ]
  },
  {
   "cell_type": "markdown",
   "metadata": {},
   "source": [
    "### Assignment"
   ]
  },
  {
   "cell_type": "code",
   "execution_count": 74,
   "metadata": {},
   "outputs": [
    {
     "name": "stdout",
     "output_type": "stream",
     "text": [
      "2\n"
     ]
    }
   ],
   "source": [
    "'''Read the string and char as the input and print no of occurance of character in th given string\n",
    "    Example:#1:\n",
    "        Input : Application,p\n",
    "        output: 2\n",
    "\n",
    "'''\n",
    "\n",
    "def no_occurances(s,c):\n",
    "    a=0\n",
    "    for i in range(len(s)):\n",
    "        if ord(s[i])==ord(c):\n",
    "            a+=1\n",
    "    print(a)\n",
    "    return\n",
    "no_occurances('Application','p')"
   ]
  },
  {
   "cell_type": "code",
   "execution_count": 76,
   "metadata": {},
   "outputs": [
    {
     "name": "stdout",
     "output_type": "stream",
     "text": [
      "p Y T H O N p R O G R A m m i n G "
     ]
    }
   ],
   "source": [
    "'''\n",
    "    Read the string as input and print the output --following manner\n",
    "    \n",
    "    Example:#1:\n",
    "                Input  : PythonPrograMMINg\n",
    "                output : pYTHONpROGRAmminG\n",
    "\n",
    "'''\n",
    "\n",
    "def L_U_L(s):\n",
    "    for i in range(len(s)):\n",
    "        if ord(s[i])>=65 and ord(s[i])<=90:\n",
    "            print(chr(ord(s[i])+32),end=' ')\n",
    "        elif ord(s[i])>=97 and ord(s[i])<=122:\n",
    "            print(chr(ord(s[i])-32),end=' ')\n",
    "    return\n",
    "L_U_L('PythonPrograMMINg')"
   ]
  },
  {
   "cell_type": "code",
   "execution_count": 81,
   "metadata": {},
   "outputs": [
    {
     "name": "stdout",
     "output_type": "stream",
     "text": [
      "16\n"
     ]
    }
   ],
   "source": [
    "'''\n",
    "    Read the string as input and print the output as only the sum of even digits\n",
    "    \n",
    "    Example::#1:\n",
    "                   Input : Applc18iation89\n",
    "                   Output: 16(8+8)\n",
    "'''\n",
    "\n",
    "def sum_even_digits(s):\n",
    "    a=0\n",
    "    for i in range(len(s)):\n",
    "        if ord(s[i])>=48 and ord(s[i])<=57:\n",
    "            if (int(s[i])%2==0):\n",
    "                a = a + int(s[i])\n",
    "    print(a)\n",
    "    return\n",
    "sum_even_digits('Applc18iation89')"
   ]
  },
  {
   "cell_type": "code",
   "execution_count": 160,
   "metadata": {},
   "outputs": [
    {
     "name": "stdout",
     "output_type": "stream",
     "text": [
      "python easy"
     ]
    }
   ],
   "source": [
    "'''\n",
    "    Read the input as string and output will be alternate words in lower case\n",
    "    Example:#1:\n",
    "                input : Learn Python Programming EASy\n",
    "                output: python easy\n",
    "'''\n",
    "# def lowercase(s1):                                         ##### s1.lower() #####\n",
    "#     for i in range (len(s1)):\n",
    "#         if ord(s1[i])>=68 and ord(s1[i])<=90:\n",
    "#             print(chr(ord(s1[i])+32),end=' ')\n",
    "#     return\n",
    "\n",
    "\n",
    "def lowercase(s):\n",
    "    a=0\n",
    "    for i in range(len(s)):\n",
    "        if ord(s[i])==32:\n",
    "            a=a+1\n",
    "        if a%2==0 and ord(s[i])==32:\n",
    "            print(end=' ')\n",
    "        if (a%2!=0):\n",
    "            if ord(s[i])>=65 and ord(s[i])<=90:\n",
    "                print(s[i].lower(),end='')\n",
    "            elif ord(s[i])>=97 and ord(s[i])<=122:\n",
    "                print(s[i],end='')\n",
    "    return\n",
    "lowercase('Learn Python Programming EASy')\n",
    "\n",
    "\n",
    "# s=\"eeeeee rrrrrrrrr tttttttttt yyyyyyyyyyyy\"\n",
    "# s1=s.split()\n",
    "# print(s1)\n",
    "# print(' '.join(s1))\n"
   ]
  },
  {
   "cell_type": "code",
   "execution_count": 131,
   "metadata": {},
   "outputs": [
    {
     "name": "stdout",
     "output_type": "stream",
     "text": [
      "puboif"
     ]
    }
   ],
   "source": [
    "'''\n",
    "    Read the input as string and output will be as follows\n",
    "    \n",
    "    Example:#1:\n",
    "                input : orange\n",
    "                output: puboif\n",
    "                \n",
    "                Reason : Print the next consonent to the vowel and print the next vowel to the consonent\n",
    "                \n",
    "                a(bcd)e(fgh)i(jklmn)o(pqrst)u(vwxyz)\n",
    "'''\n",
    "# a e i o u \n",
    "def v_to_c(s):\n",
    "    for i in range(len(s)):\n",
    "        if ord(s[i])==ord('a') or ord(s[i])==ord('e')  or ord(s[i])==ord('i') or ord(s[i])==ord('o') or ord(s[i])==ord('u'):\n",
    "            print(chr(ord(s[i])+1),end='')\n",
    "        elif ord(s[i])==ord('d') or ord(s[i])==ord('h')  or ord(s[i])==ord('n') or ord(s[i])==ord('t'):\n",
    "            print(chr(ord(s[i])+1),end='')\n",
    "        elif ord(s[i])==ord('c') or ord(s[i])==ord('g')  or ord(s[i])==ord('m') or ord(s[i])==ord('s'):\n",
    "            print(chr(ord(s[i])+2),end='')\n",
    "        elif ord(s[i])==ord('b') or ord(s[i])==ord('f')  or ord(s[i])==ord('l') or ord(s[i])==ord('r'):\n",
    "            print(chr(ord(s[i])+3),end='')\n",
    "        elif ord(s[i])==ord('k') or ord(s[i])==ord('q')  :\n",
    "            print(chr(ord(s[i])+4),end='')\n",
    "        elif ord(s[i])==ord('j') or ord(s[i])==ord('p')  :\n",
    "            print(chr(ord(s[i])+5),end='')\n",
    "        else:\n",
    "            print(chr(ord(s[i])+1),end='')\n",
    "            \n",
    "    return\n",
    "v_to_c('orange')"
   ]
  },
  {
   "cell_type": "code",
   "execution_count": 158,
   "metadata": {},
   "outputs": [
    {
     "name": "stdout",
     "output_type": "stream",
     "text": [
      "puboif"
     ]
    }
   ],
   "source": [
    "def convert(s):\n",
    "    for i in range(len(s)):\n",
    "        if ord(s[i])>ord('a') and ord(s[i])<ord('e'):\n",
    "            print('e',end='')\n",
    "        if ord(s[i])>ord('e') and ord(s[i])<ord('i'):\n",
    "            print('i',end='')\n",
    "        if ord(s[i])>ord('i') and ord(s[i])<ord('o'):\n",
    "            print('o',end='')\n",
    "        if ord(s[i])>ord('o') and ord(s[i])<ord('u'):\n",
    "            print('u',end='')\n",
    "        if ord(s[i])==ord('a') or ord(s[i])==ord('e')  or ord(s[i])==ord('i') or ord(s[i])==ord('o') or ord(s[i])==ord('u'):\n",
    "            print(chr(ord(s[i])+1),end='')\n",
    "        \n",
    "    return\n",
    "convert('orange')"
   ]
  },
  {
   "cell_type": "code",
   "execution_count": 161,
   "metadata": {},
   "outputs": [],
   "source": []
  },
  {
   "cell_type": "code",
   "execution_count": null,
   "metadata": {},
   "outputs": [],
   "source": []
  }
 ],
 "metadata": {
  "kernelspec": {
   "display_name": "Python 3",
   "language": "python",
   "name": "python3"
  },
  "language_info": {
   "codemirror_mode": {
    "name": "ipython",
    "version": 3
   },
   "file_extension": ".py",
   "mimetype": "text/x-python",
   "name": "python",
   "nbconvert_exporter": "python",
   "pygments_lexer": "ipython3",
   "version": "3.7.3"
  }
 },
 "nbformat": 4,
 "nbformat_minor": 2
}
