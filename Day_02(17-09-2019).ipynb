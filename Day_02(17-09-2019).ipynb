{
 "cells": [
  {
   "cell_type": "markdown",
   "metadata": {},
   "source": [
    "## control statements\n",
    "- conditional statements or selection statements\n",
    "    - if-else\n",
    "- iterational statements or loop statements\n",
    "    - while\n",
    "    - for"
   ]
  },
  {
   "cell_type": "code",
   "execution_count": 2,
   "metadata": {},
   "outputs": [
    {
     "name": "stdout",
     "output_type": "stream",
     "text": [
      "99\n",
      "nota leap year\n"
     ]
    }
   ],
   "source": [
    "# check the input is leap year or not \n",
    "year = int (input(''))\n",
    "if year % 400 == 0 or (year % 100 !=0 and year % 4 == 0):\n",
    "    print ('leap year')\n",
    "else:\n",
    "    print ('not a leap year')\n",
    "    \n",
    "    "
   ]
  },
  {
   "cell_type": "markdown",
   "metadata": {},
   "source": [
    "## while loop"
   ]
  },
  {
   "cell_type": "code",
   "execution_count": 6,
   "metadata": {},
   "outputs": [
    {
     "name": "stdout",
     "output_type": "stream",
     "text": [
      "enter a number: 10\n",
      "1 2 3 4 5 6 7 8 9 10 "
     ]
    }
   ],
   "source": [
    "# print numbers from 1 to n \n",
    "#input = 10\n",
    "# output = 1 2 3 .......10\n",
    "n = int (input('enter a number: '))\n",
    "i = 1\n",
    "while i<=n:\n",
    "    print (i,end=' ')\n",
    "    i= i + 1\n",
    "    "
   ]
  },
  {
   "cell_type": "code",
   "execution_count": 9,
   "metadata": {},
   "outputs": [
    {
     "name": "stdout",
     "output_type": "stream",
     "text": [
      "enter a number: 10\n",
      "30\n"
     ]
    }
   ],
   "source": [
    "# read a number as  input\n",
    "# output as only even numbers sum from 1 to n\n",
    "#input :10\n",
    "# output: 30(2+4+6+8+10)\n",
    "n = int (input('enter a number: '))\n",
    "i =  1\n",
    "a=0\n",
    "while i<=n:\n",
    "    if (i%2==0):\n",
    "        a=i+a\n",
    "    i = i+1\n",
    "print(a)\n"
   ]
  },
  {
   "cell_type": "code",
   "execution_count": 1,
   "metadata": {},
   "outputs": [
    {
     "name": "stdout",
     "output_type": "stream",
     "text": [
      "123\n",
      "3 2 1 "
     ]
    }
   ],
   "source": [
    "# Read a number as input \n",
    "#output has be digits of the number \n",
    "# input : 123\n",
    "# output :3 2 1\n",
    "n = int(input(''))\n",
    "while n!=0:\n",
    "    print(n%10,end=' ')\n",
    "    n=n//10\n",
    "    "
   ]
  },
  {
   "cell_type": "markdown",
   "metadata": {},
   "source": [
    "## functional programming\n",
    "- simple\n",
    "- easy to understand\n",
    "- Better Reuseability\n",
    "- Lengthy program will be divided into sub programs"
   ]
  },
  {
   "cell_type": "code",
   "execution_count": null,
   "metadata": {},
   "outputs": [],
   "source": [
    "def nameofthefunction(<parameters>):\n",
    "    statements\n",
    "    return\n",
    "# we dont have a return type here as of in other programming languages here the def looks after the type  of the return\n"
   ]
  },
  {
   "cell_type": "code",
   "execution_count": 18,
   "metadata": {},
   "outputs": [
    {
     "data": {
      "text/plain": [
       "20"
      ]
     },
     "execution_count": 18,
     "metadata": {},
     "output_type": "execute_result"
    }
   ],
   "source": [
    "# Read a number\n",
    "# print the even digit sum from the number\n",
    "# input: 1234\n",
    "#output: 6(2+4)\n",
    "def evendigitsum(n):\n",
    "    s=0\n",
    "    while n !=0:\n",
    "        r = n%10\n",
    "        if r%2 ==0:\n",
    "            s=s+r\n",
    "        n= n//10\n",
    "    return s\n",
    "evendigitsum(123456789)"
   ]
  },
  {
   "cell_type": "code",
   "execution_count": null,
   "metadata": {},
   "outputs": [],
   "source": [
    " # input : 19535\n",
    "# output : 9 (large digit of th given number)\n",
    "# Functional program\n",
    "def  largedigit(n):\n",
    "    #implement the logic\n",
    "    large=0\n",
    "    while n!=0:\n",
    "        small=n%10\n",
    "        if large<small:\n",
    "            large,small=small,large\n",
    "        n=n//10\n",
    "    return large,small\n",
    "largedigit(19535)"
   ]
  },
  {
   "cell_type": "code",
   "execution_count": 28,
   "metadata": {},
   "outputs": [
    {
     "name": "stdout",
     "output_type": "stream",
     "text": [
      "3 2\n"
     ]
    }
   ],
   "source": [
    "#swapping of two numbers\n",
    "a=2\n",
    "b=3\n",
    "a,b=b,a\n",
    "print(a , b)"
   ]
  },
  {
   "cell_type": "code",
   "execution_count": 10,
   "metadata": {},
   "outputs": [
    {
     "name": "stdout",
     "output_type": "stream",
     "text": [
      "enter a number: 123\n",
      "no\n"
     ]
    }
   ],
   "source": [
    "# Read a number as input\n",
    "# output yes or no\n",
    "\n",
    "# input :145\n",
    "#output: yes\n",
    "\n",
    "#input:123\n",
    "#output:no\n",
    "\n",
    "#individual digit factorial sum is same as input number\n",
    "\n",
    "def factorial(n):\n",
    "    a=1\n",
    "    while n!=0:\n",
    "        a = a*n\n",
    "        n=n-1\n",
    "    return a\n",
    "\n",
    "n= int (input('enter a number: '))\n",
    "s=0\n",
    "p=n\n",
    "while n!=0:\n",
    "    a= n%10\n",
    "    s= s+factorial(a)\n",
    "    n=n//10\n",
    "if p==s:\n",
    "    print('yes')\n",
    "else:\n",
    "    print('no')\n",
    "    \n",
    "      "
   ]
  },
  {
   "cell_type": "code",
   "execution_count": 9,
   "metadata": {},
   "outputs": [
    {
     "name": "stdout",
     "output_type": "stream",
     "text": [
      "yes\n",
      "no\n"
     ]
    }
   ],
   "source": [
    "def fact(n):\n",
    "    fact=1\n",
    "    i=1\n",
    "    while i<=n:\n",
    "        fact=fact*i\n",
    "        i=i+1\n",
    "    return fact\n",
    "def digitalfactsum(n):\n",
    "    s=0\n",
    "    buffer=n\n",
    "    while n!=0:\n",
    "        r=n%10\n",
    "        s+=fact(r)\n",
    "        n=n//10\n",
    "    if buffer==s:\n",
    "        return \"yes\"\n",
    "    else:\n",
    "        return \"no\"\n",
    "    return\n",
    "print(digitalfactsum(145))\n",
    "print(digitalfactsum(123))\n"
   ]
  },
  {
   "cell_type": "code",
   "execution_count": 13,
   "metadata": {},
   "outputs": [
    {
     "name": "stdout",
     "output_type": "stream",
     "text": [
      "palindrome\n",
      "not a palindrome\n"
     ]
    }
   ],
   "source": [
    "'''read a number as input\n",
    "   output as palindrome or not a palindrome\n",
    "   palindrome-- a number after reversing is same as the original number\n",
    "   input: 121\n",
    "   output: palindrome\n",
    "   input: 123\n",
    "   output: not a palindrome\n",
    "   '''\n",
    "\n",
    "def ispalindrome(n):\n",
    "    a=0\n",
    "    p=n\n",
    "    while n!=0:\n",
    "        a=a*10 +(n%10)\n",
    "        n=n//10\n",
    "    if p==a:\n",
    "        return  \"palindrome\"\n",
    "    else:\n",
    "        return \"not a palindrome\"\n",
    "print(ispalindrome(121))\n",
    "print(ispalindrome(123))\n"
   ]
  },
  {
   "cell_type": "markdown",
   "metadata": {},
   "source": [
    "## for loop"
   ]
  },
  {
   "cell_type": "code",
   "execution_count": 46,
   "metadata": {},
   "outputs": [
    {
     "name": "stdout",
     "output_type": "stream",
     "text": [
      "11 12 13 14 15 16 17 18 19 20 21 22 23 24 25 "
     ]
    }
   ],
   "source": [
    "# function to  print the number between two lines\n",
    "#input  ; 11 25\n",
    "#output: 11 12 13 ..................25\n",
    "def printseries(lb,ub):\n",
    "    for x in range(lb,ub+1):\n",
    "        print(x, end = ' ')\n",
    "    return\n",
    "printseries(11,25)\n"
   ]
  },
  {
   "cell_type": "markdown",
   "metadata": {},
   "source": [
    "- range function will not consider the upper boundary value so we take ub+1"
   ]
  },
  {
   "cell_type": "code",
   "execution_count": 29,
   "metadata": {},
   "outputs": [
    {
     "name": "stdout",
     "output_type": "stream",
     "text": [
      "500 506 512 518 "
     ]
    }
   ],
   "source": [
    "# function to print the alternate numbers\n",
    "#[ 500,520] -- 500  502 504 .......... 520\n",
    "# [100,140] -- 100 102  104 .............140\n",
    "\n",
    "def alternateNumbers(lb,ub):\n",
    "    for x in range(lb,ub+1,6):\n",
    "        print(x,end=' ')\n",
    "    return\n",
    "alternateNumbers(500,520)"
   ]
  },
  {
   "cell_type": "markdown",
   "metadata": {},
   "source": [
    "## ASSIGNMENT DAY-02"
   ]
  },
  {
   "cell_type": "code",
   "execution_count": 57,
   "metadata": {},
   "outputs": [
    {
     "name": "stdout",
     "output_type": "stream",
     "text": [
      "1 2 3 6 \n",
      "1 3 9 "
     ]
    }
   ],
   "source": [
    "def factors(n):\n",
    "    i=1\n",
    "    while i<=n:\n",
    "        if (n%i==0):\n",
    "            print(i,end=' ')\n",
    "            i=i+1\n",
    "        else:\n",
    "            i=i+1\n",
    "    return\n",
    "factors(6)\n",
    "print()\n",
    "factors(9)"
   ]
  },
  {
   "cell_type": "markdown",
   "metadata": {},
   "source": [
    "##### print() -- for new line"
   ]
  },
  {
   "cell_type": "code",
   "execution_count": 7,
   "metadata": {},
   "outputs": [
    {
     "name": "stdout",
     "output_type": "stream",
     "text": [
      "not prime number\n"
     ]
    }
   ],
   "source": [
    "def prime_or_not (n):\n",
    "    i=2\n",
    "    a=0\n",
    "    if n>1:\n",
    "        for i in range(2,n):\n",
    "            if (n%i==0):\n",
    "                print('not prime number')\n",
    "            break\n",
    "    else:\n",
    "        print('prime number')\n",
    "            \n",
    "prime_or_not(10)"
   ]
  },
  {
   "cell_type": "code",
   "execution_count": null,
   "metadata": {},
   "outputs": [],
   "source": []
  },
  {
   "cell_type": "code",
   "execution_count": null,
   "metadata": {},
   "outputs": [],
   "source": []
  }
 ],
 "metadata": {
  "kernelspec": {
   "display_name": "Python 3",
   "language": "python",
   "name": "python3"
  },
  "language_info": {
   "codemirror_mode": {
    "name": "ipython",
    "version": 3
   },
   "file_extension": ".py",
   "mimetype": "text/x-python",
   "name": "python",
   "nbconvert_exporter": "python",
   "pygments_lexer": "ipython3",
   "version": "3.7.3"
  }
 },
 "nbformat": 4,
 "nbformat_minor": 2
}
